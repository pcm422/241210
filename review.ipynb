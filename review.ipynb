{
 "cells": [
  {
   "cell_type": "markdown",
   "metadata": {},
   "source": [
    "- which\n",
    "    - 특정 명령어의 실행 파일이 시스템에서 어디에 있는지 경로를 알려줌\n",
    "\n",
    "- echo\n",
    "    - 문자열을 출력하거나 변수를 표시하는 데 사용됨\n",
    "\n",
    "- xargs\n",
    "    - 표준 입력에서 받은 데이터를 인수로 변환하여 명령어를 실행함\n",
    "\n",
    "- history\n",
    "    - 사용자가 이전에 입력한 명령어 목록을 표시함\n",
    "\n",
    "- Piping\n",
    "    - 파이프(|) 연산자를 사용하여 한 명령어의 출력을 다른 명령어의 입력으로 전달함\n",
    "    \n",
    "- Tee\n",
    "    - 입력을 받아서 파일에 기록하면서 동시에 터미널에 출력\n",
    "    \n",
    "- Aliases\n",
    "    - 긴 명령어를 기억하기 쉬운 별명으로 저장함"
   ]
  }
 ],
 "metadata": {
  "language_info": {
   "name": "python"
  }
 },
 "nbformat": 4,
 "nbformat_minor": 2
}
